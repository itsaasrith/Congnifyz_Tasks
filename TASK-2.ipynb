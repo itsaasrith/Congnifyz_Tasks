{
 "cells": [
  {
   "cell_type": "markdown",
   "metadata": {},
   "source": [
    "TASK-2"
   ]
  },
  {
   "cell_type": "code",
   "execution_count": 1,
   "metadata": {},
   "outputs": [],
   "source": [
    "import pandas as pd\n",
    "from sklearn.preprocessing import LabelEncoder\n",
    "import numpy as np\n",
    "from sklearn.preprocessing import MultiLabelBinarizer\n",
    "from sklearn.metrics.pairwise import cosine_similarity"
   ]
  },
  {
   "cell_type": "code",
   "execution_count": 2,
   "metadata": {},
   "outputs": [],
   "source": [
    "df=pd.read_csv(\"Dataset .csv\")"
   ]
  },
  {
   "cell_type": "code",
   "execution_count": 3,
   "metadata": {},
   "outputs": [],
   "source": [
    "df=df.dropna() #handling missing values, deleting rows with missing values"
   ]
  },
  {
   "cell_type": "code",
   "execution_count": 4,
   "metadata": {},
   "outputs": [
    {
     "data": {
      "text/plain": [
       "Restaurant ID           0\n",
       "Restaurant Name         0\n",
       "Country Code            0\n",
       "City                    0\n",
       "Address                 0\n",
       "Locality                0\n",
       "Locality Verbose        0\n",
       "Longitude               0\n",
       "Latitude                0\n",
       "Cuisines                0\n",
       "Average Cost for two    0\n",
       "Currency                0\n",
       "Has Table booking       0\n",
       "Has Online delivery     0\n",
       "Is delivering now       0\n",
       "Switch to order menu    0\n",
       "Price range             0\n",
       "Aggregate rating        0\n",
       "Rating color            0\n",
       "Rating text             0\n",
       "Votes                   0\n",
       "dtype: int64"
      ]
     },
     "execution_count": 4,
     "metadata": {},
     "output_type": "execute_result"
    }
   ],
   "source": [
    "df.isnull().sum()"
   ]
  },
  {
   "cell_type": "code",
   "execution_count": 5,
   "metadata": {},
   "outputs": [],
   "source": [
    "le=LabelEncoder()\n",
    "df[\"City_encoded\"]=le.fit_transform(df[\"City\"])\n",
    "df[\"Has Table booking_encoded\"]=df[\"Has Table booking\"].map({\"Yes\":1, \"No\":0})\n",
    "df[\"Has Online delivery_encoded\"]=df[\"Has Online delivery\"].map({\"Yes\":1, \"No\":0})\n",
    "\n",
    "df[\"Cuisines\"] = df[\"Cuisines\"].apply(lambda x: x.split(\", \") if isinstance(x, str) else [])\n",
    "\n",
    "mlb = MultiLabelBinarizer()# Apply MultiLabelBinarizer\n",
    "cuisine_encoded = pd.DataFrame(mlb.fit_transform(df[\"Cuisines\"]), columns=mlb.classes_)\n",
    "\n",
    "\n",
    "df = pd.concat([df, cuisine_encoded], axis=1)# Concatenate df and cuisine_encoded\n",
    "\n",
    "df.drop(columns=[\"Cuisines\"], inplace=True)"
   ]
  },
  {
   "cell_type": "code",
   "execution_count": 6,
   "metadata": {},
   "outputs": [],
   "source": [
    "all_cuisine_cols = mlb.classes_"
   ]
  },
  {
   "cell_type": "code",
   "execution_count": 7,
   "metadata": {},
   "outputs": [],
   "source": [
    "df = df.dropna()"
   ]
  },
  {
   "cell_type": "code",
   "execution_count": 8,
   "metadata": {},
   "outputs": [],
   "source": [
    "#create function for pre processesing the user input\n",
    "def pre_process(df):\n",
    "    le=LabelEncoder()\n",
    "    df[\"City_encoded\"]=le.fit_transform(df[\"City\"])\n",
    "    df[\"Has Table booking_encoded\"]=df[\"Has Table booking\"].map({\"Yes\":1, \"No\":0})\n",
    "    df[\"Has Online delivery_encoded\"]=df[\"Has Online delivery\"].map({\"Yes\":1, \"No\":0})\n",
    "    df[\"Cuisines\"] = df[\"Cuisines\"].apply(lambda x: x.split(\", \") if isinstance(x, str) else [])\n",
    "\n",
    "    mlb = MultiLabelBinarizer()\n",
    "    cuisine_encoded = pd.DataFrame(mlb.fit_transform(df[\"Cuisines\"]), columns=mlb.classes_)\n",
    "\n",
    "    df = pd.concat([df, cuisine_encoded], axis=1)\n",
    "    df.drop(columns=[\"Cuisines\", \"City\", \"Has Table booking\", \"Has Online delivery\"], inplace=True)\n",
    "\n",
    "    return df\n",
    "    "
   ]
  },
  {
   "cell_type": "code",
   "execution_count": 9,
   "metadata": {},
   "outputs": [],
   "source": [
    "features_df = pd.concat([\n",
    "    cuisine_encoded,\n",
    "    df[[\"City_encoded\",\"Price range\", \"Has Online delivery_encoded\", \"Has Table booking_encoded\"]]\n",
    "], axis=1)\n",
    "\n",
    "restaurant_names = df[\"Restaurant Name\"]"
   ]
  },
  {
   "cell_type": "code",
   "execution_count": 10,
   "metadata": {},
   "outputs": [],
   "source": [
    "features_df = features_df.dropna()"
   ]
  },
  {
   "cell_type": "code",
   "execution_count": 11,
   "metadata": {},
   "outputs": [
    {
     "data": {
      "text/plain": [
       "(9533, 149)"
      ]
     },
     "execution_count": 11,
     "metadata": {},
     "output_type": "execute_result"
    }
   ],
   "source": [
    "features_df.shape"
   ]
  },
  {
   "cell_type": "code",
   "execution_count": 12,
   "metadata": {},
   "outputs": [],
   "source": [
    "user_input = {\n",
    "    \"Cuisines\": [\"Burger, Bar Food, Southern\"],\n",
    "    \"City\": [\"Columbus\"],\n",
    "    \"Price range\": [2],\n",
    "    \"Has Online delivery\": [\"Yes\"],\n",
    "    \"Has Table booking\": [\"No\"]\n",
    "}"
   ]
  },
  {
   "cell_type": "code",
   "execution_count": 13,
   "metadata": {},
   "outputs": [],
   "source": [
    "input_df = pd.DataFrame.from_dict(user_input) #converting user input into dataframe"
   ]
  },
  {
   "cell_type": "code",
   "execution_count": 14,
   "metadata": {},
   "outputs": [
    {
     "data": {
      "text/plain": [
       "(1, 7)"
      ]
     },
     "execution_count": 14,
     "metadata": {},
     "output_type": "execute_result"
    }
   ],
   "source": [
    "pp_input_df = pre_process(input_df)# preprocessing the user input\n",
    "\n",
    "pp_input_df.shape"
   ]
  },
  {
   "cell_type": "code",
   "execution_count": 15,
   "metadata": {},
   "outputs": [
    {
     "name": "stderr",
     "output_type": "stream",
     "text": [
      "C:\\Users\\saiaa\\AppData\\Local\\Temp\\ipykernel_30880\\1186183365.py:5: PerformanceWarning: DataFrame is highly fragmented.  This is usually the result of calling `frame.insert` many times, which has poor performance.  Consider joining all columns at once using pd.concat(axis=1) instead. To get a de-fragmented frame, use `newframe = frame.copy()`\n",
      "  pp_input_df[missing_cuisine_col] = 0\n",
      "C:\\Users\\saiaa\\AppData\\Local\\Temp\\ipykernel_30880\\1186183365.py:5: PerformanceWarning: DataFrame is highly fragmented.  This is usually the result of calling `frame.insert` many times, which has poor performance.  Consider joining all columns at once using pd.concat(axis=1) instead. To get a de-fragmented frame, use `newframe = frame.copy()`\n",
      "  pp_input_df[missing_cuisine_col] = 0\n",
      "C:\\Users\\saiaa\\AppData\\Local\\Temp\\ipykernel_30880\\1186183365.py:5: PerformanceWarning: DataFrame is highly fragmented.  This is usually the result of calling `frame.insert` many times, which has poor performance.  Consider joining all columns at once using pd.concat(axis=1) instead. To get a de-fragmented frame, use `newframe = frame.copy()`\n",
      "  pp_input_df[missing_cuisine_col] = 0\n",
      "C:\\Users\\saiaa\\AppData\\Local\\Temp\\ipykernel_30880\\1186183365.py:5: PerformanceWarning: DataFrame is highly fragmented.  This is usually the result of calling `frame.insert` many times, which has poor performance.  Consider joining all columns at once using pd.concat(axis=1) instead. To get a de-fragmented frame, use `newframe = frame.copy()`\n",
      "  pp_input_df[missing_cuisine_col] = 0\n",
      "C:\\Users\\saiaa\\AppData\\Local\\Temp\\ipykernel_30880\\1186183365.py:5: PerformanceWarning: DataFrame is highly fragmented.  This is usually the result of calling `frame.insert` many times, which has poor performance.  Consider joining all columns at once using pd.concat(axis=1) instead. To get a de-fragmented frame, use `newframe = frame.copy()`\n",
      "  pp_input_df[missing_cuisine_col] = 0\n",
      "C:\\Users\\saiaa\\AppData\\Local\\Temp\\ipykernel_30880\\1186183365.py:5: PerformanceWarning: DataFrame is highly fragmented.  This is usually the result of calling `frame.insert` many times, which has poor performance.  Consider joining all columns at once using pd.concat(axis=1) instead. To get a de-fragmented frame, use `newframe = frame.copy()`\n",
      "  pp_input_df[missing_cuisine_col] = 0\n",
      "C:\\Users\\saiaa\\AppData\\Local\\Temp\\ipykernel_30880\\1186183365.py:5: PerformanceWarning: DataFrame is highly fragmented.  This is usually the result of calling `frame.insert` many times, which has poor performance.  Consider joining all columns at once using pd.concat(axis=1) instead. To get a de-fragmented frame, use `newframe = frame.copy()`\n",
      "  pp_input_df[missing_cuisine_col] = 0\n",
      "C:\\Users\\saiaa\\AppData\\Local\\Temp\\ipykernel_30880\\1186183365.py:5: PerformanceWarning: DataFrame is highly fragmented.  This is usually the result of calling `frame.insert` many times, which has poor performance.  Consider joining all columns at once using pd.concat(axis=1) instead. To get a de-fragmented frame, use `newframe = frame.copy()`\n",
      "  pp_input_df[missing_cuisine_col] = 0\n",
      "C:\\Users\\saiaa\\AppData\\Local\\Temp\\ipykernel_30880\\1186183365.py:5: PerformanceWarning: DataFrame is highly fragmented.  This is usually the result of calling `frame.insert` many times, which has poor performance.  Consider joining all columns at once using pd.concat(axis=1) instead. To get a de-fragmented frame, use `newframe = frame.copy()`\n",
      "  pp_input_df[missing_cuisine_col] = 0\n",
      "C:\\Users\\saiaa\\AppData\\Local\\Temp\\ipykernel_30880\\1186183365.py:5: PerformanceWarning: DataFrame is highly fragmented.  This is usually the result of calling `frame.insert` many times, which has poor performance.  Consider joining all columns at once using pd.concat(axis=1) instead. To get a de-fragmented frame, use `newframe = frame.copy()`\n",
      "  pp_input_df[missing_cuisine_col] = 0\n",
      "C:\\Users\\saiaa\\AppData\\Local\\Temp\\ipykernel_30880\\1186183365.py:5: PerformanceWarning: DataFrame is highly fragmented.  This is usually the result of calling `frame.insert` many times, which has poor performance.  Consider joining all columns at once using pd.concat(axis=1) instead. To get a de-fragmented frame, use `newframe = frame.copy()`\n",
      "  pp_input_df[missing_cuisine_col] = 0\n",
      "C:\\Users\\saiaa\\AppData\\Local\\Temp\\ipykernel_30880\\1186183365.py:5: PerformanceWarning: DataFrame is highly fragmented.  This is usually the result of calling `frame.insert` many times, which has poor performance.  Consider joining all columns at once using pd.concat(axis=1) instead. To get a de-fragmented frame, use `newframe = frame.copy()`\n",
      "  pp_input_df[missing_cuisine_col] = 0\n",
      "C:\\Users\\saiaa\\AppData\\Local\\Temp\\ipykernel_30880\\1186183365.py:5: PerformanceWarning: DataFrame is highly fragmented.  This is usually the result of calling `frame.insert` many times, which has poor performance.  Consider joining all columns at once using pd.concat(axis=1) instead. To get a de-fragmented frame, use `newframe = frame.copy()`\n",
      "  pp_input_df[missing_cuisine_col] = 0\n",
      "C:\\Users\\saiaa\\AppData\\Local\\Temp\\ipykernel_30880\\1186183365.py:5: PerformanceWarning: DataFrame is highly fragmented.  This is usually the result of calling `frame.insert` many times, which has poor performance.  Consider joining all columns at once using pd.concat(axis=1) instead. To get a de-fragmented frame, use `newframe = frame.copy()`\n",
      "  pp_input_df[missing_cuisine_col] = 0\n",
      "C:\\Users\\saiaa\\AppData\\Local\\Temp\\ipykernel_30880\\1186183365.py:5: PerformanceWarning: DataFrame is highly fragmented.  This is usually the result of calling `frame.insert` many times, which has poor performance.  Consider joining all columns at once using pd.concat(axis=1) instead. To get a de-fragmented frame, use `newframe = frame.copy()`\n",
      "  pp_input_df[missing_cuisine_col] = 0\n",
      "C:\\Users\\saiaa\\AppData\\Local\\Temp\\ipykernel_30880\\1186183365.py:5: PerformanceWarning: DataFrame is highly fragmented.  This is usually the result of calling `frame.insert` many times, which has poor performance.  Consider joining all columns at once using pd.concat(axis=1) instead. To get a de-fragmented frame, use `newframe = frame.copy()`\n",
      "  pp_input_df[missing_cuisine_col] = 0\n",
      "C:\\Users\\saiaa\\AppData\\Local\\Temp\\ipykernel_30880\\1186183365.py:5: PerformanceWarning: DataFrame is highly fragmented.  This is usually the result of calling `frame.insert` many times, which has poor performance.  Consider joining all columns at once using pd.concat(axis=1) instead. To get a de-fragmented frame, use `newframe = frame.copy()`\n",
      "  pp_input_df[missing_cuisine_col] = 0\n",
      "C:\\Users\\saiaa\\AppData\\Local\\Temp\\ipykernel_30880\\1186183365.py:5: PerformanceWarning: DataFrame is highly fragmented.  This is usually the result of calling `frame.insert` many times, which has poor performance.  Consider joining all columns at once using pd.concat(axis=1) instead. To get a de-fragmented frame, use `newframe = frame.copy()`\n",
      "  pp_input_df[missing_cuisine_col] = 0\n",
      "C:\\Users\\saiaa\\AppData\\Local\\Temp\\ipykernel_30880\\1186183365.py:5: PerformanceWarning: DataFrame is highly fragmented.  This is usually the result of calling `frame.insert` many times, which has poor performance.  Consider joining all columns at once using pd.concat(axis=1) instead. To get a de-fragmented frame, use `newframe = frame.copy()`\n",
      "  pp_input_df[missing_cuisine_col] = 0\n",
      "C:\\Users\\saiaa\\AppData\\Local\\Temp\\ipykernel_30880\\1186183365.py:5: PerformanceWarning: DataFrame is highly fragmented.  This is usually the result of calling `frame.insert` many times, which has poor performance.  Consider joining all columns at once using pd.concat(axis=1) instead. To get a de-fragmented frame, use `newframe = frame.copy()`\n",
      "  pp_input_df[missing_cuisine_col] = 0\n",
      "C:\\Users\\saiaa\\AppData\\Local\\Temp\\ipykernel_30880\\1186183365.py:5: PerformanceWarning: DataFrame is highly fragmented.  This is usually the result of calling `frame.insert` many times, which has poor performance.  Consider joining all columns at once using pd.concat(axis=1) instead. To get a de-fragmented frame, use `newframe = frame.copy()`\n",
      "  pp_input_df[missing_cuisine_col] = 0\n",
      "C:\\Users\\saiaa\\AppData\\Local\\Temp\\ipykernel_30880\\1186183365.py:5: PerformanceWarning: DataFrame is highly fragmented.  This is usually the result of calling `frame.insert` many times, which has poor performance.  Consider joining all columns at once using pd.concat(axis=1) instead. To get a de-fragmented frame, use `newframe = frame.copy()`\n",
      "  pp_input_df[missing_cuisine_col] = 0\n",
      "C:\\Users\\saiaa\\AppData\\Local\\Temp\\ipykernel_30880\\1186183365.py:5: PerformanceWarning: DataFrame is highly fragmented.  This is usually the result of calling `frame.insert` many times, which has poor performance.  Consider joining all columns at once using pd.concat(axis=1) instead. To get a de-fragmented frame, use `newframe = frame.copy()`\n",
      "  pp_input_df[missing_cuisine_col] = 0\n",
      "C:\\Users\\saiaa\\AppData\\Local\\Temp\\ipykernel_30880\\1186183365.py:5: PerformanceWarning: DataFrame is highly fragmented.  This is usually the result of calling `frame.insert` many times, which has poor performance.  Consider joining all columns at once using pd.concat(axis=1) instead. To get a de-fragmented frame, use `newframe = frame.copy()`\n",
      "  pp_input_df[missing_cuisine_col] = 0\n",
      "C:\\Users\\saiaa\\AppData\\Local\\Temp\\ipykernel_30880\\1186183365.py:5: PerformanceWarning: DataFrame is highly fragmented.  This is usually the result of calling `frame.insert` many times, which has poor performance.  Consider joining all columns at once using pd.concat(axis=1) instead. To get a de-fragmented frame, use `newframe = frame.copy()`\n",
      "  pp_input_df[missing_cuisine_col] = 0\n",
      "C:\\Users\\saiaa\\AppData\\Local\\Temp\\ipykernel_30880\\1186183365.py:5: PerformanceWarning: DataFrame is highly fragmented.  This is usually the result of calling `frame.insert` many times, which has poor performance.  Consider joining all columns at once using pd.concat(axis=1) instead. To get a de-fragmented frame, use `newframe = frame.copy()`\n",
      "  pp_input_df[missing_cuisine_col] = 0\n",
      "C:\\Users\\saiaa\\AppData\\Local\\Temp\\ipykernel_30880\\1186183365.py:5: PerformanceWarning: DataFrame is highly fragmented.  This is usually the result of calling `frame.insert` many times, which has poor performance.  Consider joining all columns at once using pd.concat(axis=1) instead. To get a de-fragmented frame, use `newframe = frame.copy()`\n",
      "  pp_input_df[missing_cuisine_col] = 0\n",
      "C:\\Users\\saiaa\\AppData\\Local\\Temp\\ipykernel_30880\\1186183365.py:5: PerformanceWarning: DataFrame is highly fragmented.  This is usually the result of calling `frame.insert` many times, which has poor performance.  Consider joining all columns at once using pd.concat(axis=1) instead. To get a de-fragmented frame, use `newframe = frame.copy()`\n",
      "  pp_input_df[missing_cuisine_col] = 0\n",
      "C:\\Users\\saiaa\\AppData\\Local\\Temp\\ipykernel_30880\\1186183365.py:5: PerformanceWarning: DataFrame is highly fragmented.  This is usually the result of calling `frame.insert` many times, which has poor performance.  Consider joining all columns at once using pd.concat(axis=1) instead. To get a de-fragmented frame, use `newframe = frame.copy()`\n",
      "  pp_input_df[missing_cuisine_col] = 0\n",
      "C:\\Users\\saiaa\\AppData\\Local\\Temp\\ipykernel_30880\\1186183365.py:5: PerformanceWarning: DataFrame is highly fragmented.  This is usually the result of calling `frame.insert` many times, which has poor performance.  Consider joining all columns at once using pd.concat(axis=1) instead. To get a de-fragmented frame, use `newframe = frame.copy()`\n",
      "  pp_input_df[missing_cuisine_col] = 0\n",
      "C:\\Users\\saiaa\\AppData\\Local\\Temp\\ipykernel_30880\\1186183365.py:5: PerformanceWarning: DataFrame is highly fragmented.  This is usually the result of calling `frame.insert` many times, which has poor performance.  Consider joining all columns at once using pd.concat(axis=1) instead. To get a de-fragmented frame, use `newframe = frame.copy()`\n",
      "  pp_input_df[missing_cuisine_col] = 0\n",
      "C:\\Users\\saiaa\\AppData\\Local\\Temp\\ipykernel_30880\\1186183365.py:5: PerformanceWarning: DataFrame is highly fragmented.  This is usually the result of calling `frame.insert` many times, which has poor performance.  Consider joining all columns at once using pd.concat(axis=1) instead. To get a de-fragmented frame, use `newframe = frame.copy()`\n",
      "  pp_input_df[missing_cuisine_col] = 0\n",
      "C:\\Users\\saiaa\\AppData\\Local\\Temp\\ipykernel_30880\\1186183365.py:5: PerformanceWarning: DataFrame is highly fragmented.  This is usually the result of calling `frame.insert` many times, which has poor performance.  Consider joining all columns at once using pd.concat(axis=1) instead. To get a de-fragmented frame, use `newframe = frame.copy()`\n",
      "  pp_input_df[missing_cuisine_col] = 0\n",
      "C:\\Users\\saiaa\\AppData\\Local\\Temp\\ipykernel_30880\\1186183365.py:5: PerformanceWarning: DataFrame is highly fragmented.  This is usually the result of calling `frame.insert` many times, which has poor performance.  Consider joining all columns at once using pd.concat(axis=1) instead. To get a de-fragmented frame, use `newframe = frame.copy()`\n",
      "  pp_input_df[missing_cuisine_col] = 0\n",
      "C:\\Users\\saiaa\\AppData\\Local\\Temp\\ipykernel_30880\\1186183365.py:5: PerformanceWarning: DataFrame is highly fragmented.  This is usually the result of calling `frame.insert` many times, which has poor performance.  Consider joining all columns at once using pd.concat(axis=1) instead. To get a de-fragmented frame, use `newframe = frame.copy()`\n",
      "  pp_input_df[missing_cuisine_col] = 0\n",
      "C:\\Users\\saiaa\\AppData\\Local\\Temp\\ipykernel_30880\\1186183365.py:5: PerformanceWarning: DataFrame is highly fragmented.  This is usually the result of calling `frame.insert` many times, which has poor performance.  Consider joining all columns at once using pd.concat(axis=1) instead. To get a de-fragmented frame, use `newframe = frame.copy()`\n",
      "  pp_input_df[missing_cuisine_col] = 0\n",
      "C:\\Users\\saiaa\\AppData\\Local\\Temp\\ipykernel_30880\\1186183365.py:5: PerformanceWarning: DataFrame is highly fragmented.  This is usually the result of calling `frame.insert` many times, which has poor performance.  Consider joining all columns at once using pd.concat(axis=1) instead. To get a de-fragmented frame, use `newframe = frame.copy()`\n",
      "  pp_input_df[missing_cuisine_col] = 0\n",
      "C:\\Users\\saiaa\\AppData\\Local\\Temp\\ipykernel_30880\\1186183365.py:5: PerformanceWarning: DataFrame is highly fragmented.  This is usually the result of calling `frame.insert` many times, which has poor performance.  Consider joining all columns at once using pd.concat(axis=1) instead. To get a de-fragmented frame, use `newframe = frame.copy()`\n",
      "  pp_input_df[missing_cuisine_col] = 0\n",
      "C:\\Users\\saiaa\\AppData\\Local\\Temp\\ipykernel_30880\\1186183365.py:5: PerformanceWarning: DataFrame is highly fragmented.  This is usually the result of calling `frame.insert` many times, which has poor performance.  Consider joining all columns at once using pd.concat(axis=1) instead. To get a de-fragmented frame, use `newframe = frame.copy()`\n",
      "  pp_input_df[missing_cuisine_col] = 0\n",
      "C:\\Users\\saiaa\\AppData\\Local\\Temp\\ipykernel_30880\\1186183365.py:5: PerformanceWarning: DataFrame is highly fragmented.  This is usually the result of calling `frame.insert` many times, which has poor performance.  Consider joining all columns at once using pd.concat(axis=1) instead. To get a de-fragmented frame, use `newframe = frame.copy()`\n",
      "  pp_input_df[missing_cuisine_col] = 0\n",
      "C:\\Users\\saiaa\\AppData\\Local\\Temp\\ipykernel_30880\\1186183365.py:5: PerformanceWarning: DataFrame is highly fragmented.  This is usually the result of calling `frame.insert` many times, which has poor performance.  Consider joining all columns at once using pd.concat(axis=1) instead. To get a de-fragmented frame, use `newframe = frame.copy()`\n",
      "  pp_input_df[missing_cuisine_col] = 0\n",
      "C:\\Users\\saiaa\\AppData\\Local\\Temp\\ipykernel_30880\\1186183365.py:5: PerformanceWarning: DataFrame is highly fragmented.  This is usually the result of calling `frame.insert` many times, which has poor performance.  Consider joining all columns at once using pd.concat(axis=1) instead. To get a de-fragmented frame, use `newframe = frame.copy()`\n",
      "  pp_input_df[missing_cuisine_col] = 0\n",
      "C:\\Users\\saiaa\\AppData\\Local\\Temp\\ipykernel_30880\\1186183365.py:5: PerformanceWarning: DataFrame is highly fragmented.  This is usually the result of calling `frame.insert` many times, which has poor performance.  Consider joining all columns at once using pd.concat(axis=1) instead. To get a de-fragmented frame, use `newframe = frame.copy()`\n",
      "  pp_input_df[missing_cuisine_col] = 0\n",
      "C:\\Users\\saiaa\\AppData\\Local\\Temp\\ipykernel_30880\\1186183365.py:5: PerformanceWarning: DataFrame is highly fragmented.  This is usually the result of calling `frame.insert` many times, which has poor performance.  Consider joining all columns at once using pd.concat(axis=1) instead. To get a de-fragmented frame, use `newframe = frame.copy()`\n",
      "  pp_input_df[missing_cuisine_col] = 0\n"
     ]
    }
   ],
   "source": [
    "#finding the missing values and assigning zero to it, because the two dfs are not aligned\n",
    "missing_cols = [col for col in all_cuisine_cols if col not in pp_input_df.columns]\n",
    "\n",
    "for missing_cuisine_col in missing_cols:\n",
    "    pp_input_df[missing_cuisine_col] = 0"
   ]
  },
  {
   "cell_type": "code",
   "execution_count": 16,
   "metadata": {},
   "outputs": [
    {
     "data": {
      "text/plain": [
       "((9533, 149), (1, 149))"
      ]
     },
     "execution_count": 16,
     "metadata": {},
     "output_type": "execute_result"
    }
   ],
   "source": [
    "features_df.shape, pp_input_df.shape"
   ]
  },
  {
   "cell_type": "code",
   "execution_count": 17,
   "metadata": {},
   "outputs": [],
   "source": [
    "#as the order of columns will be different in two dataframes so making it same as features_df\n",
    "pp_input_df = pp_input_df[features_df.columns] "
   ]
  },
  {
   "cell_type": "code",
   "execution_count": 18,
   "metadata": {},
   "outputs": [
    {
     "name": "stdout",
     "output_type": "stream",
     "text": [
      "                         Restaurant  Similarity Score\n",
      "0            The Cheesecake Factory          0.750000\n",
      "1   Sangeetha Vegetarian Restaurant          0.721688\n",
      "2                   Bait El Khetyar          0.721688\n",
      "3                       Hot Palayok          0.714435\n",
      "4                            Gazebo          0.714435\n",
      "5                         Via Delhi          0.714435\n",
      "6  Cho Gao - Crowne Plaza Abu Dhabi          0.711512\n",
      "7            Famous Dave's Barbecue          0.711512\n",
      "8                        Applebee's          0.694365\n",
      "9                  Indian By Nature          0.686406\n"
     ]
    }
   ],
   "source": [
    "similarities = cosine_similarity(pp_input_df, features_df)[0]#cosine similarity between the input and the features\n",
    "\n",
    "top_indices = similarities.argsort()[::-1][:10]#selects top 10\n",
    "\n",
    "recommended_restaurants = restaurant_names.iloc[top_indices]\n",
    "\n",
    "recommendations = pd.DataFrame({\n",
    "    \"Restaurant\": recommended_restaurants.values,\n",
    "    \"Similarity Score\": similarities[top_indices]\n",
    "})\n",
    "\n",
    "print(recommendations)"
   ]
  }
 ],
 "metadata": {
  "kernelspec": {
   "display_name": ".venv",
   "language": "python",
   "name": "python3"
  },
  "language_info": {
   "codemirror_mode": {
    "name": "ipython",
    "version": 3
   },
   "file_extension": ".py",
   "mimetype": "text/x-python",
   "name": "python",
   "nbconvert_exporter": "python",
   "pygments_lexer": "ipython3",
   "version": "3.11.4"
  }
 },
 "nbformat": 4,
 "nbformat_minor": 2
}
